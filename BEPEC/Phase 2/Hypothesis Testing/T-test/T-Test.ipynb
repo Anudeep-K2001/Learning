{
 "cells": [
  {
   "cell_type": "markdown",
   "id": "564e9ddd",
   "metadata": {},
   "source": [
    "# T test"
   ]
  },
  {
   "cell_type": "markdown",
   "id": "4799f63a",
   "metadata": {},
   "source": [
    "Use this test to compare two small sets of quantitative data when samples are collected independently of one another"
   ]
  },
  {
   "cell_type": "markdown",
   "id": "f9a065b6",
   "metadata": {},
   "source": [
    "### 3 Types of t test\n",
    "- one sample t-test\n",
    "- two sample t-test\n",
    "- paired sample t-test\n",
    "\n",
    "#### One sample t-test\n",
    "A one-sample t-test is used to compare a single population to a standard value (for example, to determine whether the average lifespan of a specific town is different from the country average).<br><br>\n",
    "import from : `from scipy.stats import ttest_1samp`\n",
    "\n",
    "#### Two sample t-test\n",
    "A paired t-test is used to compare a single population before and after some experimental intervention or at two different points in time (for example, measuring student performance on a test before and after being taught the material). <br><br>\n",
    "import from : `from scipy.stats import ttest_ind`\n",
    "\n",
    "#### Paired sample t-test\n",
    "For multiple columns <br><br>\n",
    "import from : `from scipy.stats import ttest_rel`"
   ]
  },
  {
   "cell_type": "markdown",
   "id": "81857597",
   "metadata": {},
   "source": [
    "Assumptions\n",
    "------------------------\n",
    "1. Data is continous\n",
    "2. Sample collected is represntative of whole population\n",
    "3. Data when plotted results in normal distribution\n",
    "4. No major outliers are present in data\n",
    "5. Standard Deviations of the two samples should be approximately equal"
   ]
  },
  {
   "cell_type": "markdown",
   "id": "a1683eab",
   "metadata": {},
   "source": [
    "Formula\n",
    "-----------------\n",
    "P or t-value formula\n",
    "$$P = \\frac{|\\bar{X_1} - \\bar{X_2}|}{\\sqrt{\\frac{S_1^2}{n_1} + \\frac{S_2^2}{n_2}}}$$\n",
    "where : <br><br>\n",
    "$X_1, X_2$ = mean of col1, col2 <br>\n",
    "$S_1, S_2$ = standard deviations of col1, col2 <br>\n",
    "$n_1, n_2$ = number of observations in col1, col2"
   ]
  },
  {
   "cell_type": "markdown",
   "id": "50251a46",
   "metadata": {},
   "source": [
    "# "
   ]
  },
  {
   "cell_type": "markdown",
   "id": "c9869a4f",
   "metadata": {},
   "source": [
    "# importing libraries"
   ]
  },
  {
   "cell_type": "code",
   "execution_count": 47,
   "id": "ebe489f5",
   "metadata": {},
   "outputs": [],
   "source": [
    "import pandas as pd\n",
    "import numpy as np\n",
    "import matplotlib.pyplot as plt\n",
    "import seaborn as sns"
   ]
  },
  {
   "cell_type": "markdown",
   "id": "b6c28d36",
   "metadata": {},
   "source": [
    "# reading the data"
   ]
  },
  {
   "cell_type": "code",
   "execution_count": 50,
   "id": "1798ad3b",
   "metadata": {},
   "outputs": [
    {
     "data": {
      "text/html": [
       "<div>\n",
       "<style scoped>\n",
       "    .dataframe tbody tr th:only-of-type {\n",
       "        vertical-align: middle;\n",
       "    }\n",
       "\n",
       "    .dataframe tbody tr th {\n",
       "        vertical-align: top;\n",
       "    }\n",
       "\n",
       "    .dataframe thead th {\n",
       "        text-align: right;\n",
       "    }\n",
       "</style>\n",
       "<table border=\"1\" class=\"dataframe\">\n",
       "  <thead>\n",
       "    <tr style=\"text-align: right;\">\n",
       "      <th></th>\n",
       "      <th>Current</th>\n",
       "      <th>New</th>\n",
       "    </tr>\n",
       "  </thead>\n",
       "  <tbody>\n",
       "    <tr>\n",
       "      <th>0</th>\n",
       "      <td>264</td>\n",
       "      <td>277</td>\n",
       "    </tr>\n",
       "    <tr>\n",
       "      <th>1</th>\n",
       "      <td>261</td>\n",
       "      <td>269</td>\n",
       "    </tr>\n",
       "    <tr>\n",
       "      <th>2</th>\n",
       "      <td>267</td>\n",
       "      <td>263</td>\n",
       "    </tr>\n",
       "    <tr>\n",
       "      <th>3</th>\n",
       "      <td>272</td>\n",
       "      <td>266</td>\n",
       "    </tr>\n",
       "    <tr>\n",
       "      <th>4</th>\n",
       "      <td>258</td>\n",
       "      <td>262</td>\n",
       "    </tr>\n",
       "  </tbody>\n",
       "</table>\n",
       "</div>"
      ],
      "text/plain": [
       "   Current  New\n",
       "0      264  277\n",
       "1      261  269\n",
       "2      267  263\n",
       "3      272  266\n",
       "4      258  262"
      ]
     },
     "execution_count": 50,
     "metadata": {},
     "output_type": "execute_result"
    }
   ],
   "source": [
    "data = pd.read_csv(\"Golf.csv\")\n",
    "data.head()"
   ]
  },
  {
   "cell_type": "markdown",
   "id": "8e3cb16c",
   "metadata": {},
   "source": [
    "## Assumption 1 : Data is continous"
   ]
  },
  {
   "cell_type": "code",
   "execution_count": 52,
   "id": "6819e06c",
   "metadata": {},
   "outputs": [
    {
     "data": {
      "text/html": [
       "<div>\n",
       "<style scoped>\n",
       "    .dataframe tbody tr th:only-of-type {\n",
       "        vertical-align: middle;\n",
       "    }\n",
       "\n",
       "    .dataframe tbody tr th {\n",
       "        vertical-align: top;\n",
       "    }\n",
       "\n",
       "    .dataframe thead th {\n",
       "        text-align: right;\n",
       "    }\n",
       "</style>\n",
       "<table border=\"1\" class=\"dataframe\">\n",
       "  <thead>\n",
       "    <tr style=\"text-align: right;\">\n",
       "      <th></th>\n",
       "      <th>Current</th>\n",
       "      <th>New</th>\n",
       "    </tr>\n",
       "  </thead>\n",
       "  <tbody>\n",
       "    <tr>\n",
       "      <th>0</th>\n",
       "      <td>264</td>\n",
       "      <td>277</td>\n",
       "    </tr>\n",
       "    <tr>\n",
       "      <th>1</th>\n",
       "      <td>261</td>\n",
       "      <td>269</td>\n",
       "    </tr>\n",
       "    <tr>\n",
       "      <th>2</th>\n",
       "      <td>267</td>\n",
       "      <td>263</td>\n",
       "    </tr>\n",
       "    <tr>\n",
       "      <th>3</th>\n",
       "      <td>272</td>\n",
       "      <td>266</td>\n",
       "    </tr>\n",
       "    <tr>\n",
       "      <th>4</th>\n",
       "      <td>258</td>\n",
       "      <td>262</td>\n",
       "    </tr>\n",
       "    <tr>\n",
       "      <th>5</th>\n",
       "      <td>283</td>\n",
       "      <td>251</td>\n",
       "    </tr>\n",
       "    <tr>\n",
       "      <th>6</th>\n",
       "      <td>258</td>\n",
       "      <td>262</td>\n",
       "    </tr>\n",
       "    <tr>\n",
       "      <th>7</th>\n",
       "      <td>266</td>\n",
       "      <td>289</td>\n",
       "    </tr>\n",
       "    <tr>\n",
       "      <th>8</th>\n",
       "      <td>259</td>\n",
       "      <td>286</td>\n",
       "    </tr>\n",
       "    <tr>\n",
       "      <th>9</th>\n",
       "      <td>270</td>\n",
       "      <td>264</td>\n",
       "    </tr>\n",
       "  </tbody>\n",
       "</table>\n",
       "</div>"
      ],
      "text/plain": [
       "   Current  New\n",
       "0      264  277\n",
       "1      261  269\n",
       "2      267  263\n",
       "3      272  266\n",
       "4      258  262\n",
       "5      283  251\n",
       "6      258  262\n",
       "7      266  289\n",
       "8      259  286\n",
       "9      270  264"
      ]
     },
     "execution_count": 52,
     "metadata": {},
     "output_type": "execute_result"
    }
   ],
   "source": [
    "data.head(10)"
   ]
  },
  {
   "cell_type": "markdown",
   "id": "0902cd84",
   "metadata": {},
   "source": [
    "#### Assumption 1 is fulfilled"
   ]
  },
  {
   "cell_type": "markdown",
   "id": "63058f4b",
   "metadata": {},
   "source": [
    "# Assumption 2 : Sample represents population"
   ]
  },
  {
   "cell_type": "markdown",
   "id": "1d01d414",
   "metadata": {},
   "source": [
    "We assume that the data is sampled properly and represents whole population"
   ]
  },
  {
   "cell_type": "markdown",
   "id": "e1be59b7",
   "metadata": {},
   "source": [
    "## "
   ]
  },
  {
   "cell_type": "markdown",
   "id": "9d1ae1c3",
   "metadata": {},
   "source": [
    "# Assumption 3 : Data is normal"
   ]
  },
  {
   "cell_type": "code",
   "execution_count": 53,
   "id": "f60a0027",
   "metadata": {},
   "outputs": [
    {
     "data": {
      "text/html": [
       "<div>\n",
       "<style scoped>\n",
       "    .dataframe tbody tr th:only-of-type {\n",
       "        vertical-align: middle;\n",
       "    }\n",
       "\n",
       "    .dataframe tbody tr th {\n",
       "        vertical-align: top;\n",
       "    }\n",
       "\n",
       "    .dataframe thead th {\n",
       "        text-align: right;\n",
       "    }\n",
       "</style>\n",
       "<table border=\"1\" class=\"dataframe\">\n",
       "  <thead>\n",
       "    <tr style=\"text-align: right;\">\n",
       "      <th></th>\n",
       "      <th>Current</th>\n",
       "      <th>New</th>\n",
       "    </tr>\n",
       "  </thead>\n",
       "  <tbody>\n",
       "    <tr>\n",
       "      <th>count</th>\n",
       "      <td>40.000000</td>\n",
       "      <td>40.000000</td>\n",
       "    </tr>\n",
       "    <tr>\n",
       "      <th>mean</th>\n",
       "      <td>270.275000</td>\n",
       "      <td>267.500000</td>\n",
       "    </tr>\n",
       "    <tr>\n",
       "      <th>std</th>\n",
       "      <td>8.752985</td>\n",
       "      <td>9.896904</td>\n",
       "    </tr>\n",
       "    <tr>\n",
       "      <th>min</th>\n",
       "      <td>255.000000</td>\n",
       "      <td>250.000000</td>\n",
       "    </tr>\n",
       "    <tr>\n",
       "      <th>25%</th>\n",
       "      <td>263.000000</td>\n",
       "      <td>262.000000</td>\n",
       "    </tr>\n",
       "    <tr>\n",
       "      <th>50%</th>\n",
       "      <td>270.000000</td>\n",
       "      <td>265.000000</td>\n",
       "    </tr>\n",
       "    <tr>\n",
       "      <th>75%</th>\n",
       "      <td>275.250000</td>\n",
       "      <td>274.500000</td>\n",
       "    </tr>\n",
       "    <tr>\n",
       "      <th>max</th>\n",
       "      <td>289.000000</td>\n",
       "      <td>289.000000</td>\n",
       "    </tr>\n",
       "  </tbody>\n",
       "</table>\n",
       "</div>"
      ],
      "text/plain": [
       "          Current         New\n",
       "count   40.000000   40.000000\n",
       "mean   270.275000  267.500000\n",
       "std      8.752985    9.896904\n",
       "min    255.000000  250.000000\n",
       "25%    263.000000  262.000000\n",
       "50%    270.000000  265.000000\n",
       "75%    275.250000  274.500000\n",
       "max    289.000000  289.000000"
      ]
     },
     "execution_count": 53,
     "metadata": {},
     "output_type": "execute_result"
    },
    {
     "data": {
      "image/png": "[encoded data removed]",
      "text/plain": [
       "<Figure size 432x288 with 1 Axes>"
      ]
     },
     "metadata": {
      "needs_background": "light"
     },
     "output_type": "display_data"
    }
   ],
   "source": [
    "sns.kdeplot(data = data)\n",
    "data.describe()"
   ]
  },
  {
   "cell_type": "markdown",
   "id": "215ed84e",
   "metadata": {},
   "source": [
    "mean, meadian are similar in both cases and the graph looks like a normal distribution\n",
    "\n",
    "#### Assumption 3  is satisfied"
   ]
  },
  {
   "cell_type": "markdown",
   "id": "d11403c4",
   "metadata": {},
   "source": [
    "# Assumption 4 : No ouliers"
   ]
  },
  {
   "cell_type": "code",
   "execution_count": 54,
   "id": "b9ccffab",
   "metadata": {},
   "outputs": [
    {
     "data": {
      "text/plain": [
       "<AxesSubplot:>"
      ]
     },
     "execution_count": 54,
     "metadata": {},
     "output_type": "execute_result"
    },
    {
     "data": {
      "image/png": "[encoded data removed]",
      "text/plain": [
       "<Figure size 432x288 with 1 Axes>"
      ]
     },
     "metadata": {
      "needs_background": "light"
     },
     "output_type": "display_data"
    }
   ],
   "source": [
    "sns.boxplot(data = data)"
   ]
  },
  {
   "cell_type": "markdown",
   "id": "6d960883",
   "metadata": {},
   "source": [
    "No outliers are found\n",
    "#### Assumption 4 is satisfied"
   ]
  },
  {
   "cell_type": "markdown",
   "id": "8feb7e80",
   "metadata": {},
   "source": [
    "# Assumption 5 : both standard deviation should be close"
   ]
  },
  {
   "cell_type": "code",
   "execution_count": 57,
   "id": "179dee12",
   "metadata": {},
   "outputs": [
    {
     "name": "stdout",
     "output_type": "stream",
     "text": [
      "8.752984838884597 9.896904462947894\n"
     ]
    }
   ],
   "source": [
    "print(data.Current.std(), data.New.std())"
   ]
  },
  {
   "cell_type": "markdown",
   "id": "982f8674",
   "metadata": {},
   "source": [
    "almost similar\n",
    "#### Assumption 5 is satisfied"
   ]
  },
  {
   "cell_type": "markdown",
   "id": "8438a2ee",
   "metadata": {},
   "source": [
    "## As all the assumptions are fulfilled, student t test can be done"
   ]
  },
  {
   "cell_type": "markdown",
   "id": "39832444",
   "metadata": {},
   "source": [
    "Custom definition"
   ]
  },
  {
   "cell_type": "code",
   "execution_count": 37,
   "id": "261ad452",
   "metadata": {},
   "outputs": [],
   "source": [
    "def ttest(f1, f2):\n",
    "    numerator = abs(np.mean(f1) - np.mean(f2))\n",
    "    s1 = np.std(f1)\n",
    "    s2 = np.std(f2)\n",
    "    n1 = len(f1)\n",
    "    n2 = len(f2)\n",
    "    denominator = np.math.sqrt(s1**2/n1 + s2**2/n2)\n",
    "    return numerator/denominator"
   ]
  },
  {
   "cell_type": "code",
   "execution_count": 87,
   "id": "d252f0f3",
   "metadata": {},
   "outputs": [
    {
     "data": {
      "text/plain": [
       "1.3452840794843213"
      ]
     },
     "execution_count": 87,
     "metadata": {},
     "output_type": "execute_result"
    }
   ],
   "source": [
    "ttest(data.Current, data.New)"
   ]
  },
  {
   "cell_type": "code",
   "execution_count": 60,
   "id": "161dda80",
   "metadata": {},
   "outputs": [
    {
     "data": {
      "text/plain": [
       "78"
      ]
     },
     "execution_count": 60,
     "metadata": {},
     "output_type": "execute_result"
    }
   ],
   "source": [
    "Degree_of_freedom = len(data.Current) + len(data.New) - 2\n",
    "Degree_of_freedom"
   ]
  },
  {
   "cell_type": "markdown",
   "id": "4f1d842f",
   "metadata": {},
   "source": [
    "#### From the T test chart, the T/P value (critical value) for 95% significance for 78 degrees of freedom is 1.665. Our critcal value (P value) is lower, hence Null hypothesis is accepted"
   ]
  },
  {
   "cell_type": "code",
   "execution_count": null,
   "id": "dbcca0ae",
   "metadata": {},
   "outputs": [],
   "source": []
  },
  {
   "cell_type": "code",
   "execution_count": null,
   "id": "afd39509",
   "metadata": {},
   "outputs": [],
   "source": []
  },
  {
   "cell_type": "markdown",
   "id": "66a25296",
   "metadata": {},
   "source": [
    "# Using Scipy.stats"
   ]
  },
  {
   "cell_type": "code",
   "execution_count": 71,
   "id": "4fe5dee7",
   "metadata": {},
   "outputs": [],
   "source": [
    "from scipy.stats import ttest_ind"
   ]
  },
  {
   "cell_type": "code",
   "execution_count": 76,
   "id": "dc1d1cf2",
   "metadata": {},
   "outputs": [
    {
     "data": {
      "text/plain": [
       "Ttest_indResult(statistic=1.3283615935245678, pvalue=0.18793228491854663)"
      ]
     },
     "execution_count": 76,
     "metadata": {},
     "output_type": "execute_result"
    }
   ],
   "source": [
    "ttest_ind(data.Current, data.New)"
   ]
  },
  {
   "cell_type": "markdown",
   "id": "70de96cd",
   "metadata": {},
   "source": [
    "pvalue > 0.05 <br>\n",
    "Hence Null hypothesis is accepted <br>\n",
    "Thus there is no difference between New and Current and the difference caused is due to noise"
   ]
  },
  {
   "cell_type": "markdown",
   "id": "2fe4c1a9",
   "metadata": {},
   "source": [
    "# "
   ]
  },
  {
   "cell_type": "markdown",
   "id": "cfdc84d3",
   "metadata": {},
   "source": [
    "# "
   ]
  },
  {
   "cell_type": "markdown",
   "id": "55b2a6da",
   "metadata": {},
   "source": [
    "for one sample test `from scipy.stats import ttest_1samp`\n"
   ]
  }
 ],
 "metadata": {
  "kernelspec": {
   "display_name": "Python 3",
   "language": "python",
   "name": "python3"
  },
  "language_info": {
   "codemirror_mode": {
    "name": "ipython",
    "version": 3
   },
   "file_extension": ".py",
   "mimetype": "text/x-python",
   "name": "python",
   "nbconvert_exporter": "python",
   "pygments_lexer": "ipython3",
   "version": "3.8.8"
  }
 },
 "nbformat": 4,
 "nbformat_minor": 5
}
