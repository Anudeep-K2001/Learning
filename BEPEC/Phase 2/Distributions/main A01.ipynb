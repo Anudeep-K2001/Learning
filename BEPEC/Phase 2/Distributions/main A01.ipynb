{
 "cells": [
  {
   "cell_type": "markdown",
   "id": "d51f6a92",
   "metadata": {},
   "source": [
    "Distributions\n",
    "================\n",
    "\n",
    "2 Data types in Distributions\n",
    "- Discrete\n",
    "- Continuous <br>\n",
    "\n",
    "There are many distributions but we will touch these here <br>\n",
    "\n",
    "Types of Discrete Distributions\n",
    "- Binomial\n",
    "- Poisson \n",
    "- Discrete Uniform (refer scipy.stats.randint for discrete uniform) <br>\n",
    "\n",
    "Types of Continuous Distributions\n",
    "- Normal (refer scipy.stats.norm for more info)\n",
    "- Standard Normal"
   ]
  },
  {
   "cell_type": "code",
   "execution_count": 58,
   "id": "e483190a",
   "metadata": {},
   "outputs": [],
   "source": [
    "import numpy as np\n",
    "from scipy import stats\n",
    "import matplotlib.pyplot as plt"
   ]
  },
  {
   "cell_type": "markdown",
   "id": "8c67426f",
   "metadata": {},
   "source": [
    "Binomial\n",
    "----------"
   ]
  },
  {
   "cell_type": "markdown",
   "id": "ca5a39eb",
   "metadata": {},
   "source": [
    "If 25 coins are tossed, then the distribution that number of coins facing heads is as follows"
   ]
  },
  {
   "cell_type": "code",
   "execution_count": 15,
   "id": "621cce4a",
   "metadata": {},
   "outputs": [],
   "source": [
    "dist = [stats.binom.pmf(i, 25, 0.5) for i in range(25)]"
   ]
  },
  {
   "cell_type": "code",
   "execution_count": 16,
   "id": "a96e03e7",
   "metadata": {},
   "outputs": [
    {
     "data": {
      "text/plain": [
       "<BarContainer object of 25 artists>"
      ]
     },
     "execution_count": 16,
     "metadata": {},
     "output_type": "execute_result"
    },
    {
     "data": {
      "image/png": "[encoded data removed]",
      "text/plain": [
       "<Figure size 432x288 with 1 Axes>"
      ]
     },
     "metadata": {
      "needs_background": "light"
     },
     "output_type": "display_data"
    }
   ],
   "source": [
    "plt.bar(range(25), dist)"
   ]
  },
  {
   "cell_type": "markdown",
   "id": "3b155e24",
   "metadata": {},
   "source": [
    "stats.binom.pmf(k, n, p) <br>\n",
    "\n",
    "k is the required value\n",
    "n is the total number items\n",
    "p is the probability of success"
   ]
  },
  {
   "cell_type": "markdown",
   "id": "65840a3a",
   "metadata": {},
   "source": [
    "Case Study\n",
    "------------------\n",
    "A bike rental company observed that 5% of their bikes are getting into breakdown due to various reasons. On a specific day 100 bikes are rented.\n",
    "Calculate \n",
    "1. Probability that exactly 10 customers return their bike due to breakdown\n",
    "2. Probability that a maximum of 10 customers return their bike due to breakdown\n",
    "3. Probability that more than 10 customers return their bike\n"
   ]
  },
  {
   "cell_type": "code",
   "execution_count": 22,
   "id": "8d602ed5",
   "metadata": {},
   "outputs": [
    {
     "name": "stdout",
     "output_type": "stream",
     "text": [
      "Probability that exactly 10 customers will return is 1.6715884095931226\n"
     ]
    }
   ],
   "source": [
    "#Question 1\n",
    "ans = stats.binom.pmf(10, 100, 0.05)\n",
    "print(f\"Probability that exactly 10 customers will return is {ans * 100}\")"
   ]
  },
  {
   "cell_type": "code",
   "execution_count": 23,
   "id": "97ee3ea0",
   "metadata": {},
   "outputs": [
    {
     "name": "stdout",
     "output_type": "stream",
     "text": [
      "Probability that a maximum of 10 customers return is 98.85275899325153\n"
     ]
    }
   ],
   "source": [
    "#Question 2\n",
    "ans = stats.binom.cdf(10, 100, 0.05)\n",
    "print(f\"Probability that a maximum of 10 customers return is {ans * 100}\")"
   ]
  },
  {
   "cell_type": "code",
   "execution_count": 24,
   "id": "b17c09cb",
   "metadata": {},
   "outputs": [
    {
     "name": "stdout",
     "output_type": "stream",
     "text": [
      "Probability that more than 10 customers return is 1.1472410067484784\n"
     ]
    }
   ],
   "source": [
    "#Question 3\n",
    "ans = 1 - stats.binom.cdf(10, 100, 0.05)\n",
    "print(f\"Probability that more than 10 customers return is {ans * 100}\")"
   ]
  },
  {
   "cell_type": "markdown",
   "id": "09b39584",
   "metadata": {},
   "source": [
    "The distibution looks as follows"
   ]
  },
  {
   "cell_type": "code",
   "execution_count": 30,
   "id": "406815e9",
   "metadata": {},
   "outputs": [],
   "source": [
    "dist = [stats.binom.pmf(i, 100, 0.05) for i in range(100)]"
   ]
  },
  {
   "cell_type": "code",
   "execution_count": 31,
   "id": "7ef1ecf1",
   "metadata": {},
   "outputs": [
    {
     "data": {
      "text/plain": [
       "<BarContainer object of 100 artists>"
      ]
     },
     "execution_count": 31,
     "metadata": {},
     "output_type": "execute_result"
    },
    {
     "data": {
      "image/png": "[encoded data removed]",
      "text/plain": [
       "<Figure size 432x288 with 1 Axes>"
      ]
     },
     "metadata": {
      "needs_background": "light"
     },
     "output_type": "display_data"
    }
   ],
   "source": [
    "plt.bar(range(100), dist)"
   ]
  },
  {
   "cell_type": "markdown",
   "id": "544012d2",
   "metadata": {},
   "source": [
    "# "
   ]
  },
  {
   "cell_type": "markdown",
   "id": "ef4252a6",
   "metadata": {},
   "source": [
    "Poisson Distribution Case Study\n",
    "------------------------------------------------\n",
    "Number of people visiting the hospital are 50 people/hour\n",
    "1. Calculate the probability, if maximum people are 40\n",
    "2. Calculate the probability that the people exceed 100 in 2 hours span"
   ]
  },
  {
   "cell_type": "code",
   "execution_count": 33,
   "id": "6b12fd37",
   "metadata": {},
   "outputs": [
    {
     "name": "stdout",
     "output_type": "stream",
     "text": [
      "The probability that maximum of 40 people will arrive is 8.607000011796094\n"
     ]
    }
   ],
   "source": [
    "ans = stats.poisson.cdf(40,50)\n",
    "print(f\"The probability that maximum of 40 people will arrive is {ans * 100}\")"
   ]
  },
  {
   "cell_type": "code",
   "execution_count": 34,
   "id": "9e33f195",
   "metadata": {},
   "outputs": [
    {
     "name": "stdout",
     "output_type": "stream",
     "text": [
      "The probability that 100 people will exceed in 2 hrs is 47.343780147000146\n"
     ]
    }
   ],
   "source": [
    "ans = 1 - stats.poisson.cdf(100, 100)\n",
    "print(f\"The probability that 100 people will exceed in 2 hrs is {ans * 100}\")"
   ]
  },
  {
   "cell_type": "markdown",
   "id": "b05ecba5",
   "metadata": {},
   "source": [
    "# "
   ]
  }
 ],
 "metadata": {
  "kernelspec": {
   "display_name": "Python 3",
   "language": "python",
   "name": "python3"
  },
  "language_info": {
   "codemirror_mode": {
    "name": "ipython",
    "version": 3
   },
   "file_extension": ".py",
   "mimetype": "text/x-python",
   "name": "python",
   "nbconvert_exporter": "python",
   "pygments_lexer": "ipython3",
   "version": "3.8.8"
  }
 },
 "nbformat": 4,
 "nbformat_minor": 5
}
